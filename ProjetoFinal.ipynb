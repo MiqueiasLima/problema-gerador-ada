{
 "cells": [
  {
   "cell_type": "code",
   "execution_count": 27,
   "metadata": {},
   "outputs": [],
   "source": [
    "from bs4 import BeautifulSoup\n",
    "from selenium import webdriver\n",
    "from selenium.webdriver.common.by import By\n",
    "\n"
   ]
  },
  {
   "cell_type": "code",
   "execution_count": 28,
   "metadata": {},
   "outputs": [],
   "source": [
    "url = \"https://pt.wikipedia.org/wiki/Wikip%C3%A9dia:P%C3%A1gina_principal\"\n",
    "\n",
    "tema = 'seleção Brasileira'\n",
    "\n",
    "# Criando a Pesquisa\n",
    "driver = webdriver.Firefox()\n",
    "driver.get(url)\n",
    "search_bar = driver.find_element(By.NAME,\"search\")\n",
    "search_bar.send_keys(tema)\n",
    "search_bar.submit()\n"
   ]
  },
  {
   "cell_type": "code",
   "execution_count": 29,
   "metadata": {},
   "outputs": [
    {
     "name": "stdout",
     "output_type": "stream",
     "text": [
      "Página Wiki\n"
     ]
    }
   ],
   "source": [
    "# Tratando a pesquisa\n",
    "\n",
    "if driver.find_elements(By.XPATH,'/html/body/div[2]/div/div[3]/main/div[3]/div[3]/div[1]/div[1]/table/tbody/tr/td[1]/span/a/img'):\n",
    "    print(\"Página Desambiguacao\")\n",
    "    driver.find_element(By.XPATH,'/html/body/div[2]/div/div[3]/main/div[3]/div[3]/div[1]/ul/li[1]/a').click()\n",
    "\n",
    "elif driver.find_elements(By.XPATH,'//*[@id=\"firstHeading\"]'):\n",
    "    if driver.find_elements(By.XPATH,'//*[@id=\"firstHeading\"]')[0].text == 'Resultados da pesquisa':\n",
    "        print(\"Pesquisa Avançada\")\n",
    "        driver.find_element(By.XPATH,'/html/body/div[2]/div/div[3]/main/div[3]/div[3]/div[3]/div[4]/ul/li[1]/div[2]/div[2]/div[1]/a').click()\n",
    "    else:\n",
    "        print(\"Página Wiki\")\n",
    "\n",
    "html = driver.page_source\n",
    "driver.quit()\n",
    "\n"
   ]
  }
 ],
 "metadata": {
  "kernelspec": {
   "display_name": "Python 3",
   "language": "python",
   "name": "python3"
  },
  "language_info": {
   "codemirror_mode": {
    "name": "ipython",
    "version": 3
   },
   "file_extension": ".py",
   "mimetype": "text/x-python",
   "name": "python",
   "nbconvert_exporter": "python",
   "pygments_lexer": "ipython3",
   "version": "3.9.13"
  }
 },
 "nbformat": 4,
 "nbformat_minor": 2
}
